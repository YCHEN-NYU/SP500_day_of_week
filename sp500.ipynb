{
 "cells": [
  {
   "cell_type": "markdown",
   "metadata": {},
   "source": [
    "# 20 years of S & P 500 daily price\n",
    "### statistical analysis of price by day of week from Monday to Friday\n",
    "### data source from Yahoo 1998-01-02 to 2017-12-29"
   ]
  },
  {
   "cell_type": "code",
   "execution_count": 278,
   "metadata": {},
   "outputs": [],
   "source": [
    "import numpy as np\n",
    "import matplotlib.pyplot as plt\n",
    "import pandas as pd\n",
    "import datetime"
   ]
  },
  {
   "cell_type": "code",
   "execution_count": 279,
   "metadata": {},
   "outputs": [],
   "source": [
    "rawdata = pd.read_csv('sp500daily.csv')"
   ]
  },
  {
   "cell_type": "code",
   "execution_count": 280,
   "metadata": {},
   "outputs": [
    {
     "data": {
      "text/html": [
       "<div>\n",
       "<style scoped>\n",
       "    .dataframe tbody tr th:only-of-type {\n",
       "        vertical-align: middle;\n",
       "    }\n",
       "\n",
       "    .dataframe tbody tr th {\n",
       "        vertical-align: top;\n",
       "    }\n",
       "\n",
       "    .dataframe thead th {\n",
       "        text-align: right;\n",
       "    }\n",
       "</style>\n",
       "<table border=\"1\" class=\"dataframe\">\n",
       "  <thead>\n",
       "    <tr style=\"text-align: right;\">\n",
       "      <th></th>\n",
       "      <th>Date</th>\n",
       "      <th>Open</th>\n",
       "      <th>High</th>\n",
       "      <th>Low</th>\n",
       "      <th>Close</th>\n",
       "      <th>Adj Close</th>\n",
       "      <th>Volume</th>\n",
       "    </tr>\n",
       "  </thead>\n",
       "  <tbody>\n",
       "    <tr>\n",
       "      <th>0</th>\n",
       "      <td>1998-01-02</td>\n",
       "      <td>970.429993</td>\n",
       "      <td>975.039978</td>\n",
       "      <td>965.729980</td>\n",
       "      <td>975.039978</td>\n",
       "      <td>975.039978</td>\n",
       "      <td>366730000</td>\n",
       "    </tr>\n",
       "    <tr>\n",
       "      <th>1</th>\n",
       "      <td>1998-01-05</td>\n",
       "      <td>975.039978</td>\n",
       "      <td>982.630005</td>\n",
       "      <td>969.000000</td>\n",
       "      <td>977.070007</td>\n",
       "      <td>977.070007</td>\n",
       "      <td>628070000</td>\n",
       "    </tr>\n",
       "    <tr>\n",
       "      <th>2</th>\n",
       "      <td>1998-01-06</td>\n",
       "      <td>977.070007</td>\n",
       "      <td>977.070007</td>\n",
       "      <td>962.679993</td>\n",
       "      <td>966.580017</td>\n",
       "      <td>966.580017</td>\n",
       "      <td>618360000</td>\n",
       "    </tr>\n",
       "    <tr>\n",
       "      <th>3</th>\n",
       "      <td>1998-01-07</td>\n",
       "      <td>966.580017</td>\n",
       "      <td>966.580017</td>\n",
       "      <td>952.669983</td>\n",
       "      <td>964.000000</td>\n",
       "      <td>964.000000</td>\n",
       "      <td>667390000</td>\n",
       "    </tr>\n",
       "    <tr>\n",
       "      <th>4</th>\n",
       "      <td>1998-01-08</td>\n",
       "      <td>964.000000</td>\n",
       "      <td>964.000000</td>\n",
       "      <td>955.039978</td>\n",
       "      <td>956.049988</td>\n",
       "      <td>956.049988</td>\n",
       "      <td>652140000</td>\n",
       "    </tr>\n",
       "  </tbody>\n",
       "</table>\n",
       "</div>"
      ],
      "text/plain": [
       "         Date        Open        High         Low       Close   Adj Close  \\\n",
       "0  1998-01-02  970.429993  975.039978  965.729980  975.039978  975.039978   \n",
       "1  1998-01-05  975.039978  982.630005  969.000000  977.070007  977.070007   \n",
       "2  1998-01-06  977.070007  977.070007  962.679993  966.580017  966.580017   \n",
       "3  1998-01-07  966.580017  966.580017  952.669983  964.000000  964.000000   \n",
       "4  1998-01-08  964.000000  964.000000  955.039978  956.049988  956.049988   \n",
       "\n",
       "      Volume  \n",
       "0  366730000  \n",
       "1  628070000  \n",
       "2  618360000  \n",
       "3  667390000  \n",
       "4  652140000  "
      ]
     },
     "execution_count": 280,
     "metadata": {},
     "output_type": "execute_result"
    }
   ],
   "source": [
    "rawdata.head(5)"
   ]
  },
  {
   "cell_type": "code",
   "execution_count": 281,
   "metadata": {},
   "outputs": [
    {
     "data": {
      "text/html": [
       "<div>\n",
       "<style scoped>\n",
       "    .dataframe tbody tr th:only-of-type {\n",
       "        vertical-align: middle;\n",
       "    }\n",
       "\n",
       "    .dataframe tbody tr th {\n",
       "        vertical-align: top;\n",
       "    }\n",
       "\n",
       "    .dataframe thead th {\n",
       "        text-align: right;\n",
       "    }\n",
       "</style>\n",
       "<table border=\"1\" class=\"dataframe\">\n",
       "  <thead>\n",
       "    <tr style=\"text-align: right;\">\n",
       "      <th></th>\n",
       "      <th>Date</th>\n",
       "      <th>Open</th>\n",
       "      <th>High</th>\n",
       "      <th>Low</th>\n",
       "      <th>Close</th>\n",
       "      <th>Adj Close</th>\n",
       "      <th>Volume</th>\n",
       "    </tr>\n",
       "  </thead>\n",
       "  <tbody>\n",
       "    <tr>\n",
       "      <th>5027</th>\n",
       "      <td>2017-12-22</td>\n",
       "      <td>2684.219971</td>\n",
       "      <td>2685.350098</td>\n",
       "      <td>2678.129883</td>\n",
       "      <td>2683.340088</td>\n",
       "      <td>2683.340088</td>\n",
       "      <td>2399830000</td>\n",
       "    </tr>\n",
       "    <tr>\n",
       "      <th>5028</th>\n",
       "      <td>2017-12-26</td>\n",
       "      <td>2679.090088</td>\n",
       "      <td>2682.739990</td>\n",
       "      <td>2677.959961</td>\n",
       "      <td>2680.500000</td>\n",
       "      <td>2680.500000</td>\n",
       "      <td>1968780000</td>\n",
       "    </tr>\n",
       "    <tr>\n",
       "      <th>5029</th>\n",
       "      <td>2017-12-27</td>\n",
       "      <td>2682.100098</td>\n",
       "      <td>2685.639893</td>\n",
       "      <td>2678.909912</td>\n",
       "      <td>2682.620117</td>\n",
       "      <td>2682.620117</td>\n",
       "      <td>2202080000</td>\n",
       "    </tr>\n",
       "    <tr>\n",
       "      <th>5030</th>\n",
       "      <td>2017-12-28</td>\n",
       "      <td>2686.100098</td>\n",
       "      <td>2687.659912</td>\n",
       "      <td>2682.689941</td>\n",
       "      <td>2687.540039</td>\n",
       "      <td>2687.540039</td>\n",
       "      <td>2153330000</td>\n",
       "    </tr>\n",
       "    <tr>\n",
       "      <th>5031</th>\n",
       "      <td>2017-12-29</td>\n",
       "      <td>2689.149902</td>\n",
       "      <td>2692.120117</td>\n",
       "      <td>2673.610107</td>\n",
       "      <td>2673.610107</td>\n",
       "      <td>2673.610107</td>\n",
       "      <td>2443490000</td>\n",
       "    </tr>\n",
       "  </tbody>\n",
       "</table>\n",
       "</div>"
      ],
      "text/plain": [
       "            Date         Open         High          Low        Close  \\\n",
       "5027  2017-12-22  2684.219971  2685.350098  2678.129883  2683.340088   \n",
       "5028  2017-12-26  2679.090088  2682.739990  2677.959961  2680.500000   \n",
       "5029  2017-12-27  2682.100098  2685.639893  2678.909912  2682.620117   \n",
       "5030  2017-12-28  2686.100098  2687.659912  2682.689941  2687.540039   \n",
       "5031  2017-12-29  2689.149902  2692.120117  2673.610107  2673.610107   \n",
       "\n",
       "        Adj Close      Volume  \n",
       "5027  2683.340088  2399830000  \n",
       "5028  2680.500000  1968780000  \n",
       "5029  2682.620117  2202080000  \n",
       "5030  2687.540039  2153330000  \n",
       "5031  2673.610107  2443490000  "
      ]
     },
     "execution_count": 281,
     "metadata": {},
     "output_type": "execute_result"
    }
   ],
   "source": [
    "rawdata.tail(5)"
   ]
  },
  {
   "cell_type": "code",
   "execution_count": 291,
   "metadata": {},
   "outputs": [],
   "source": [
    "# find out day of week by the 'Date' in the rawdata\n",
    "def date_to_weekday(Date):\n",
    "    # date format: string('xxxx-m-dd') to weekday index\n",
    "    weekday = []\n",
    "    for i in range(len(Date)):\n",
    "        date = Date[i]\n",
    "        temp = [int(date.split('-')[0]), int(date.split('-')[1]), int(date.split('-')[2])]\n",
    "        weekday.append(datetime.datetime(temp[0], temp[1], temp[2]).weekday())\n",
    "    return np.array(weekday) # 0 to 6: Monday to Sunday"
   ]
  },
  {
   "cell_type": "code",
   "execution_count": 283,
   "metadata": {},
   "outputs": [
    {
     "data": {
      "image/png": "[encoded data removed]",
      "text/plain": [
       "<matplotlib.figure.Figure at 0x7f68aa7fc048>"
      ]
     },
     "metadata": {},
     "output_type": "display_data"
    }
   ],
   "source": [
    "# check out some data to see if the above function works in converting the string file to weekday\n",
    "today = rawdata['Date']\n",
    "days_of_week = date_to_weekday(today)\n",
    "plt.plot(days_of_week[:100], 'bo', linestyle='-')\n",
    "plt.show()"
   ]
  },
  {
   "cell_type": "code",
   "execution_count": 284,
   "metadata": {},
   "outputs": [],
   "source": [
    "# grab daily Close price\n",
    "price_daily_close = rawdata['Close']"
   ]
  },
  {
   "cell_type": "code",
   "execution_count": 285,
   "metadata": {},
   "outputs": [
    {
     "data": {
      "image/png": "[encoded data removed]",
      "text/plain": [
       "<matplotlib.figure.Figure at 0x7f68aa88ae10>"
      ]
     },
     "metadata": {},
     "output_type": "display_data"
    }
   ],
   "source": [
    "# plot out the price in twenty years (x axis for simply index from 0 to len(data))\n",
    "fig = plt.figure(figsize=(10, 8))\n",
    "\n",
    "plt.plot(price_daily_close)\n",
    "plt.title('S&P 500 daily', fontsize=28)\n",
    "plt.xlabel('day', fontsize=24)\n",
    "plt.ylabel('Index', fontsize=24)\n",
    "plt.tick_params(labelsize=20)\n",
    "plt.grid(True)\n",
    "plt.yticks(np.linspace(0, 3000, 7))\n",
    "plt.show()"
   ]
  },
  {
   "cell_type": "code",
   "execution_count": 286,
   "metadata": {},
   "outputs": [],
   "source": [
    "# load days_of_week and price data into pd.DataFrame data\n",
    "x = np.array([days_of_week, rawdata['Close']]).T\n",
    "data = pd.DataFrame(x)\n",
    "data.columns=['day_of_week', 'price']"
   ]
  },
  {
   "cell_type": "code",
   "execution_count": 287,
   "metadata": {},
   "outputs": [
    {
     "data": {
      "text/html": [
       "<div>\n",
       "<style scoped>\n",
       "    .dataframe tbody tr th:only-of-type {\n",
       "        vertical-align: middle;\n",
       "    }\n",
       "\n",
       "    .dataframe tbody tr th {\n",
       "        vertical-align: top;\n",
       "    }\n",
       "\n",
       "    .dataframe thead th {\n",
       "        text-align: right;\n",
       "    }\n",
       "</style>\n",
       "<table border=\"1\" class=\"dataframe\">\n",
       "  <thead>\n",
       "    <tr style=\"text-align: right;\">\n",
       "      <th></th>\n",
       "      <th>day_of_week</th>\n",
       "      <th>price</th>\n",
       "    </tr>\n",
       "  </thead>\n",
       "  <tbody>\n",
       "    <tr>\n",
       "      <th>0</th>\n",
       "      <td>4.0</td>\n",
       "      <td>975.039978</td>\n",
       "    </tr>\n",
       "    <tr>\n",
       "      <th>1</th>\n",
       "      <td>0.0</td>\n",
       "      <td>977.070007</td>\n",
       "    </tr>\n",
       "    <tr>\n",
       "      <th>2</th>\n",
       "      <td>1.0</td>\n",
       "      <td>966.580017</td>\n",
       "    </tr>\n",
       "    <tr>\n",
       "      <th>3</th>\n",
       "      <td>2.0</td>\n",
       "      <td>964.000000</td>\n",
       "    </tr>\n",
       "    <tr>\n",
       "      <th>4</th>\n",
       "      <td>3.0</td>\n",
       "      <td>956.049988</td>\n",
       "    </tr>\n",
       "    <tr>\n",
       "      <th>5</th>\n",
       "      <td>4.0</td>\n",
       "      <td>927.690002</td>\n",
       "    </tr>\n",
       "    <tr>\n",
       "      <th>6</th>\n",
       "      <td>0.0</td>\n",
       "      <td>939.210022</td>\n",
       "    </tr>\n",
       "    <tr>\n",
       "      <th>7</th>\n",
       "      <td>1.0</td>\n",
       "      <td>952.119995</td>\n",
       "    </tr>\n",
       "    <tr>\n",
       "      <th>8</th>\n",
       "      <td>2.0</td>\n",
       "      <td>957.940002</td>\n",
       "    </tr>\n",
       "    <tr>\n",
       "      <th>9</th>\n",
       "      <td>3.0</td>\n",
       "      <td>950.729980</td>\n",
       "    </tr>\n",
       "  </tbody>\n",
       "</table>\n",
       "</div>"
      ],
      "text/plain": [
       "   day_of_week       price\n",
       "0          4.0  975.039978\n",
       "1          0.0  977.070007\n",
       "2          1.0  966.580017\n",
       "3          2.0  964.000000\n",
       "4          3.0  956.049988\n",
       "5          4.0  927.690002\n",
       "6          0.0  939.210022\n",
       "7          1.0  952.119995\n",
       "8          2.0  957.940002\n",
       "9          3.0  950.729980"
      ]
     },
     "execution_count": 287,
     "metadata": {},
     "output_type": "execute_result"
    }
   ],
   "source": [
    "# check out head and tail to make sure data is right\n",
    "# randomly pick a few examples and verified the robustness\n",
    "data.head(10)"
   ]
  },
  {
   "cell_type": "code",
   "execution_count": 288,
   "metadata": {},
   "outputs": [
    {
     "data": {
      "text/html": [
       "<div>\n",
       "<style scoped>\n",
       "    .dataframe tbody tr th:only-of-type {\n",
       "        vertical-align: middle;\n",
       "    }\n",
       "\n",
       "    .dataframe tbody tr th {\n",
       "        vertical-align: top;\n",
       "    }\n",
       "\n",
       "    .dataframe thead th {\n",
       "        text-align: right;\n",
       "    }\n",
       "</style>\n",
       "<table border=\"1\" class=\"dataframe\">\n",
       "  <thead>\n",
       "    <tr style=\"text-align: right;\">\n",
       "      <th></th>\n",
       "      <th>day_of_week</th>\n",
       "      <th>price</th>\n",
       "    </tr>\n",
       "  </thead>\n",
       "  <tbody>\n",
       "    <tr>\n",
       "      <th>5022</th>\n",
       "      <td>4.0</td>\n",
       "      <td>2675.810059</td>\n",
       "    </tr>\n",
       "    <tr>\n",
       "      <th>5023</th>\n",
       "      <td>0.0</td>\n",
       "      <td>2690.159912</td>\n",
       "    </tr>\n",
       "    <tr>\n",
       "      <th>5024</th>\n",
       "      <td>1.0</td>\n",
       "      <td>2681.469971</td>\n",
       "    </tr>\n",
       "    <tr>\n",
       "      <th>5025</th>\n",
       "      <td>2.0</td>\n",
       "      <td>2679.250000</td>\n",
       "    </tr>\n",
       "    <tr>\n",
       "      <th>5026</th>\n",
       "      <td>3.0</td>\n",
       "      <td>2684.570068</td>\n",
       "    </tr>\n",
       "    <tr>\n",
       "      <th>5027</th>\n",
       "      <td>4.0</td>\n",
       "      <td>2683.340088</td>\n",
       "    </tr>\n",
       "    <tr>\n",
       "      <th>5028</th>\n",
       "      <td>1.0</td>\n",
       "      <td>2680.500000</td>\n",
       "    </tr>\n",
       "    <tr>\n",
       "      <th>5029</th>\n",
       "      <td>2.0</td>\n",
       "      <td>2682.620117</td>\n",
       "    </tr>\n",
       "    <tr>\n",
       "      <th>5030</th>\n",
       "      <td>3.0</td>\n",
       "      <td>2687.540039</td>\n",
       "    </tr>\n",
       "    <tr>\n",
       "      <th>5031</th>\n",
       "      <td>4.0</td>\n",
       "      <td>2673.610107</td>\n",
       "    </tr>\n",
       "  </tbody>\n",
       "</table>\n",
       "</div>"
      ],
      "text/plain": [
       "      day_of_week        price\n",
       "5022          4.0  2675.810059\n",
       "5023          0.0  2690.159912\n",
       "5024          1.0  2681.469971\n",
       "5025          2.0  2679.250000\n",
       "5026          3.0  2684.570068\n",
       "5027          4.0  2683.340088\n",
       "5028          1.0  2680.500000\n",
       "5029          2.0  2682.620117\n",
       "5030          3.0  2687.540039\n",
       "5031          4.0  2673.610107"
      ]
     },
     "execution_count": 288,
     "metadata": {},
     "output_type": "execute_result"
    }
   ],
   "source": [
    "data.tail(10)"
   ]
  },
  {
   "cell_type": "code",
   "execution_count": 289,
   "metadata": {},
   "outputs": [
    {
     "name": "stdout",
     "output_type": "stream",
     "text": [
      "[1411.0072777185185, 1411.8599707196897, 1413.2230160299519, 1413.4173662159762, 1413.6241328391263]\n"
     ]
    }
   ],
   "source": [
    "# calculate the mean price based on the day_of_week value with pandas mask\n",
    "price_day_of_week = list()\n",
    "for i in range(5):\n",
    "    mask = (data['day_of_week'] == i)\n",
    "    price_day_of_week.append(np.mean(data['price'][mask]))\n",
    "print(price_day_of_week)"
   ]
  },
  {
   "cell_type": "code",
   "execution_count": 292,
   "metadata": {},
   "outputs": [
    {
     "data": {
      "image/png": "[encoded data removed]",
      "text/plain": [
       "<matplotlib.figure.Figure at 0x7f68aa61ca58>"
      ]
     },
     "metadata": {},
     "output_type": "display_data"
    }
   ],
   "source": [
    "# plot out the relative price in % from Monday to Friday\n",
    "weekday_index = [0, 1, 2, 3, 4]\n",
    "weekdays = ['Mon', 'Tu', 'Wed', 'Thur', 'Fri']\n",
    "fig = plt.figure(figsize=(8, 6))\n",
    "\n",
    "plt.bar(weekday_index, (price_day_of_week - np.mean(price_day_of_week))/price_day_of_week*100)\n",
    "plt.title('S&P 500 daily', fontsize=28)\n",
    "# plt.xlabel('day', fontsize=24)\n",
    "plt.ylabel('Price (%)', fontsize=24)\n",
    "plt.xticks(weekday_index, weekdays)\n",
    "plt.tick_params(labelsize=20)\n",
    "plt.show()"
   ]
  },
  {
   "cell_type": "markdown",
   "metadata": {},
   "source": [
    "# Therefore, Monday will be the best day for the monday averaging of S & P 500 "
   ]
  },
  {
   "cell_type": "code",
   "execution_count": null,
   "metadata": {},
   "outputs": [],
   "source": []
  }
 ],
 "metadata": {
  "kernelspec": {
   "display_name": "Python 3",
   "language": "python",
   "name": "python3"
  },
  "language_info": {
   "codemirror_mode": {
    "name": "ipython",
    "version": 3
   },
   "file_extension": ".py",
   "mimetype": "text/x-python",
   "name": "python",
   "nbconvert_exporter": "python",
   "pygments_lexer": "ipython3",
   "version": "3.6.4"
  }
 },
 "nbformat": 4,
 "nbformat_minor": 2
}
